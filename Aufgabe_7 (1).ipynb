{
 "cells": [
  {
   "cell_type": "code",
   "execution_count": null,
   "id": "b6c8470a",
   "metadata": {},
   "outputs": [],
   "source": [
    "##### Nabila Sahli "
   ]
  },
  {
   "cell_type": "code",
   "execution_count": 9,
   "id": "3721d610",
   "metadata": {},
   "outputs": [],
   "source": [
    "#### Fragen :\n",
    "\n",
    "#1_Lineares Ausgangsverhalten:\n",
    "\n",
    "#Verringern Sie die Anzahl der versteckten Neuronen. \n",
    "#Weniger Neuronen können zu einer linearen Approximation der Funktion führen, da das Modell weniger komplexe Muster erfassen kann.\n",
    "#Verringern Sie die Lernrate. Eine niedrigere Lernrate kann dazu führen, dass das Modell langsamere und kleinere Anpassungen vornimmt, was zu einem linearen Verhalten führen kann.\n",
    "\n",
    "\n",
    "#2_Overfitting:\n",
    "\n",
    "#Erhöhen Sie die Anzahl der versteckten Neuronen. \n",
    "#Ein Modell mit einer großen Anzahl von Neuronen kann zu einer Überanpassung an die Trainingsdaten führen, indem es sich zu stark an die Rauschpunkte in den Daten anpasst.\n",
    "#Erhöhen Sie die Lernrate. Eine zu hohe Lernrate kann zu schnellen und großen Anpassungen führen, die dazu führen können, dass das Modell die Trainingsdaten übermäßig gut passt, aber Schwierigkeiten hat, auf neuen Daten zu generalisieren."
   ]
  },
  {
   "cell_type": "code",
   "execution_count": null,
   "id": "4ce498c2",
   "metadata": {},
   "outputs": [],
   "source": []
  },
  {
   "cell_type": "code",
   "execution_count": 10,
   "id": "a3ea61f6",
   "metadata": {},
   "outputs": [
    {
     "name": "stderr",
     "output_type": "stream",
     "text": [
      "C:\\Users\\nabil\\anaconda3\\lib\\site-packages\\torch\\nn\\modules\\loss.py:530: UserWarning: Using a target size (torch.Size([3918])) that is different to the input size (torch.Size([3918, 1])). This will likely lead to incorrect results due to broadcasting. Please ensure they have the same size.\n",
      "  return F.mse_loss(input, target, reduction=self.reduction)\n"
     ]
    },
    {
     "name": "stdout",
     "output_type": "stream",
     "text": [
      "Epoch 100/1000, Loss: 10.740633964538574\n",
      "Epoch 200/1000, Loss: 3.130594253540039\n",
      "Epoch 300/1000, Loss: 2.380467176437378\n",
      "Epoch 400/1000, Loss: 2.029115915298462\n",
      "Epoch 500/1000, Loss: 1.7720600366592407\n",
      "Epoch 600/1000, Loss: 1.556220531463623\n",
      "Epoch 700/1000, Loss: 1.3707767724990845\n",
      "Epoch 800/1000, Loss: 1.2171381711959839\n",
      "Epoch 900/1000, Loss: 1.092516541481018\n",
      "Epoch 1000/1000, Loss: 0.9981252551078796\n",
      "Test Loss: 1.113539457321167\n"
     ]
    },
    {
     "name": "stderr",
     "output_type": "stream",
     "text": [
      "C:\\Users\\nabil\\anaconda3\\lib\\site-packages\\torch\\nn\\modules\\loss.py:530: UserWarning: Using a target size (torch.Size([980])) that is different to the input size (torch.Size([980, 1])). This will likely lead to incorrect results due to broadcasting. Please ensure they have the same size.\n",
      "  return F.mse_loss(input, target, reduction=self.reduction)\n"
     ]
    },
    {
     "data": {
      "image/png": "[encoded data removed]",
      "text/plain": [
       "<Figure size 640x480 with 1 Axes>"
      ]
     },
     "metadata": {},
     "output_type": "display_data"
    }
   ],
   "source": [
    "import torch\n",
    "import torch.nn as nn\n",
    "import torch.optim as optim\n",
    "import pandas as pd\n",
    "from sklearn.model_selection import train_test_split\n",
    "from sklearn.preprocessing import StandardScaler\n",
    "\n",
    "# Daten laden\n",
    "data = pd.read_csv(\"winequality-white.csv\", delimiter=\";\")\n",
    "\n",
    "# Eingabevariablen auswählen\n",
    "features = [\"fixed acidity\", \"volatile acidity\", \"citric acid\", \"residual sugar\",\n",
    "            \"chlorides\", \"free sulfur dioxide\", \"total sulfur dioxide\", \"density\",\n",
    "            \"pH\", \"sulphates\", \"alcohol\"]\n",
    "\n",
    "# Zielvariable auswählen\n",
    "target = \"quality\"\n",
    "\n",
    "# Daten aufteilen in Eingabevariablen X und Zielvariablen y\n",
    "X = data[features]\n",
    "y = data[target]\n",
    "\n",
    "# Daten normalisieren\n",
    "scaler = StandardScaler()\n",
    "X = scaler.fit_transform(X)\n",
    "\n",
    "# Daten in Trainings- und Testdaten aufteilen\n",
    "X_train, X_test, y_train, y_test = train_test_split(X, y, test_size=0.2, random_state=42)\n",
    "\n",
    "# Konvertieren der Daten in Tensoren\n",
    "X_train = torch.tensor(X_train, dtype=torch.float32)\n",
    "y_train = torch.tensor(y_train.values, dtype=torch.float32)\n",
    "X_test = torch.tensor(X_test, dtype=torch.float32)\n",
    "y_test = torch.tensor(y_test.values, dtype=torch.float32)\n",
    "\n",
    "# Definition des neuronalen Netzwerks\n",
    "class WineQualityNet(nn.Module):\n",
    "    def __init__(self, input_size, hidden_size, output_size):\n",
    "        super(WineQualityNet, self).__init__()\n",
    "        self.fc1 = nn.Linear(input_size, hidden_size)\n",
    "        self.relu = nn.ReLU()\n",
    "        self.fc2 = nn.Linear(hidden_size, output_size)\n",
    "\n",
    "    def forward(self, x):\n",
    "        out = self.fc1(x)\n",
    "        out = self.relu(out)\n",
    "        out = self.fc2(out)\n",
    "        return out\n",
    "\n",
    "# Hyperparameter festlegen\n",
    "input_size = len(features)\n",
    "output_size = 1\n",
    "hidden_size = 64\n",
    "learning_rate = 0.001\n",
    "num_epochs = 1000\n",
    "\n",
    "# Modellinitialisierung\n",
    "model = WineQualityNet(input_size, hidden_size, output_size)\n",
    "\n",
    "# Loss-Funktion und Optimizer\n",
    "criterion = nn.MSELoss()\n",
    "optimizer = optim.Adam(model.parameters(), lr=learning_rate)\n",
    "\n",
    "# Trainingsschleife\n",
    "for epoch in range(num_epochs):\n",
    "    # Vorwärtsdurchlauf und Vorhersage\n",
    "    outputs = model(X_train)\n",
    "    loss = criterion(outputs, y_train)\n",
    "\n",
    "    # Rückwärtsdurchlauf und Optimierung\n",
    "    optimizer.zero_grad()\n",
    "    loss.backward()\n",
    "    optimizer.step()\n",
    "\n",
    "    # Ausgabe des Fortschritts alle 100 Epochen\n",
    "    if (epoch + 1) % 100 == 0:\n",
    "        print(f\"Epoch {epoch+1}/{num_epochs}, Loss: {loss.item()}\")\n",
    "\n",
    "# Evaluation des Modells auf Testdaten\n",
    "with torch.no_grad():\n",
    "    test_outputs = model(X_test)\n",
    "    test_loss = criterion(test_outputs, y_test)\n",
    "    print(f\"Test Loss: {test_loss.item()}\")\n",
    "    \n",
    "    \n",
    "    \n",
    "##### Die Trainingsdauer eines neuronalen Netzwerks kann von verschiedenen Faktoren abhängen. Hier sind einige wichtige Faktoren, die die Trainingsdauer beeinflussen können:\n",
    "#Datensatzgröße: Je größer der Datensatz ist, desto länger dauert das Training. Mehr Daten bedeuten in der Regel auch längere Berechnungszeiten.\n",
    "   \n",
    "#Netzwerkarchitektur: Die Komplexität der Netzwerkarchitektur kann die Trainingsdauer beeinflussen. Tiefere Netzwerke mit mehr Schichten und mehr Neuronen benötigen in der Regel mehr Zeit für das Training als flachere Netzwerke.\n",
    "#Hardware: Die verwendete Hardware, wie CPU oder GPU, kann die Trainingsdauer beeinflussen. GPUs sind oft schneller als CPUs und können das Training beschleunigen.\n",
    "#Hyperparameter-Einstellungen: Die Wahl der Hyperparameter wie Lernrate, Batch-Größe und Anzahl der Trainingsepochen kann die Trainingsdauer beeinflussen. Eine zu hohe Lernrate kann dazu führen, dass das Netzwerk schlechter konvergiert und möglicherweise länger braucht, um ein gutes Ergebnis zu erzielen.\n",
    "#Optimierungsalgorithmus: Der verwendete Optimierungsalgorithmus, z.B. Stochastic Gradient Descent (SGD) oder Adam, kann die Trainingsdauer beeinflussen. Ein effizienter Optimierungsalgorithmus kann das Training beschleunigen.\n",
    "\n",
    "\n",
    "\n",
    "\n",
    "\n",
    "import matplotlib.pyplot as plt\n",
    "\n",
    "# Daten laden\n",
    "data = pd.read_csv(\"winequality-white.csv\", delimiter=\";\")\n",
    "\n",
    "# Qualitätshistogramm\n",
    "plt.hist(data[\"quality\"], bins=range(3, 11), align=\"left\", rwidth=0.8)\n",
    "plt.xlabel(\"Qualität\")\n",
    "plt.ylabel(\"Anzahl\")\n",
    "plt.title(\"Histogramm der Weinqualitäten\")\n",
    "plt.xticks(range(3, 11))\n",
    "plt.show()\n",
    "\n"
   ]
  },
  {
   "cell_type": "code",
   "execution_count": null,
   "id": "e86a88c9",
   "metadata": {},
   "outputs": [],
   "source": []
  },
  {
   "cell_type": "code",
   "execution_count": null,
   "id": "0ba7e830",
   "metadata": {},
   "outputs": [],
   "source": []
  },
  {
   "cell_type": "code",
   "execution_count": null,
   "id": "d530acf3",
   "metadata": {},
   "outputs": [],
   "source": []
  }
 ],
 "metadata": {
  "kernelspec": {
   "display_name": "Python 3 (ipykernel)",
   "language": "python",
   "name": "python3"
  },
  "language_info": {
   "codemirror_mode": {
    "name": "ipython",
    "version": 3
   },
   "file_extension": ".py",
   "mimetype": "text/x-python",
   "name": "python",
   "nbconvert_exporter": "python",
   "pygments_lexer": "ipython3",
   "version": "3.10.9"
  }
 },
 "nbformat": 4,
 "nbformat_minor": 5
}
